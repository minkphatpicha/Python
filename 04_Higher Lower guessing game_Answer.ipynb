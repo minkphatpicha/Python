{
 "cells": [
  {
   "cell_type": "code",
   "execution_count": 1,
   "id": "b603c407",
   "metadata": {},
   "outputs": [],
   "source": [
    "import random"
   ]
  },
  {
   "cell_type": "code",
   "execution_count": 2,
   "id": "6cd6e7ba",
   "metadata": {},
   "outputs": [],
   "source": [
    "randList = random.sample(range(1, 13), 10)"
   ]
  },
  {
   "cell_type": "code",
   "execution_count": 3,
   "id": "209bbb37",
   "metadata": {},
   "outputs": [
    {
     "name": "stdout",
     "output_type": "stream",
     "text": [
      "Starting number: 5\n",
      "Higher(H) or Lower(L)? H\n",
      "Next number 6\n",
      "Higher(H) or Lower(L)? H\n",
      "Next number 12\n",
      "Higher(H) or Lower(L)? L\n",
      "Next number 10\n",
      "Higher(H) or Lower(L)? L\n",
      "Next number 9\n",
      "Higher(H) or Lower(L)? L\n",
      "Next number 3\n",
      "Higher(H) or Lower(L)? H\n",
      "Next number 8\n",
      "Higher(H) or Lower(L)? L\n",
      "Next number 4\n",
      "Higher(H) or Lower(L)? H\n",
      "Next number 11\n",
      "Higher(H) or Lower(L)? L\n",
      "Next number 7\n",
      "You win\n"
     ]
    }
   ],
   "source": [
    "print('Starting number: ' + str(randList[0]))\n",
    "last = randList[0]\n",
    "flag = True\n",
    "\n",
    "for i in range(1, len(randList)):\n",
    "    response = input('Higher(H) or Lower(L)? ')\n",
    "\n",
    "    if response == 'H':\n",
    "        if last < randList[i]:\n",
    "            print('Next number ' + str(randList[i]))\n",
    "        else:\n",
    "            flag = False\n",
    "            print('You lose')\n",
    "            break\n",
    "    elif response == 'L': \n",
    "        if last > randList[i]:\n",
    "            print('Next number ' + str(randList[i]))\n",
    "        else:\n",
    "            flag = False\n",
    "            print('You lose')\n",
    "            break\n",
    "    else:\n",
    "        print('Wrong Input, game over!')\n",
    "        break\n",
    "    last = randList[i]\n",
    "    \n",
    "if i >= len(randList)-1 and flag:\n",
    "    print('You win')"
   ]
  },
  {
   "cell_type": "code",
   "execution_count": null,
   "id": "fece5809",
   "metadata": {},
   "outputs": [],
   "source": []
  }
 ],
 "metadata": {
  "kernelspec": {
   "display_name": "Python 3",
   "language": "python",
   "name": "python3"
  },
  "language_info": {
   "codemirror_mode": {
    "name": "ipython",
    "version": 3
   },
   "file_extension": ".py",
   "mimetype": "text/x-python",
   "name": "python",
   "nbconvert_exporter": "python",
   "pygments_lexer": "ipython3",
   "version": "3.7.3"
  }
 },
 "nbformat": 4,
 "nbformat_minor": 5
}
