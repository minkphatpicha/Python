{
 "cells": [
  {
   "cell_type": "markdown",
   "id": "1c94f36d",
   "metadata": {},
   "source": [
    "# Part 1: House Hunting"
   ]
  },
  {
   "cell_type": "code",
   "execution_count": 1,
   "id": "c344ccf6",
   "metadata": {},
   "outputs": [],
   "source": [
    "def cal(annual_salary, portion_saved, total_cost):\n",
    "    r = 0.04\n",
    "    months = 0\n",
    "    portion_down_payment = total_cost * 0.25\n",
    "    current_savings = 0\n",
    "    while(True):\n",
    "        months = months + 1\n",
    "        current_savings = current_savings + current_savings * r / 12 + annual_salary / 12 * portion_saved\n",
    "        if current_savings >= portion_down_payment:\n",
    "            break\n",
    "    return months"
   ]
  },
  {
   "cell_type": "code",
   "execution_count": 2,
   "id": "021a86ad",
   "metadata": {},
   "outputs": [
    {
     "name": "stdout",
     "output_type": "stream",
     "text": [
      "Enter your annual salary: 150000\n",
      "Enter the percent of your salary to save, as a decimal: 0.10\n",
      "Enter the cost of your dream home: 1500000\n",
      "Number of months: 209\n"
     ]
    }
   ],
   "source": [
    "annual_salary = input('Enter your annual salary: ')\n",
    "portion_saved = input('Enter the percent of your salary to save, as a decimal: ')\n",
    "total_cost = input('Enter the cost of your dream home: ')\n",
    "months = cal(float(annual_salary), float(portion_saved), float(total_cost))\n",
    "print('Number of months: {}'.format(months))"
   ]
  },
  {
   "cell_type": "markdown",
   "id": "a21b14fa",
   "metadata": {},
   "source": [
    "# Part 2: Saving with a raise"
   ]
  },
  {
   "cell_type": "code",
   "execution_count": 3,
   "id": "91a82d81",
   "metadata": {},
   "outputs": [],
   "source": [
    "def cal(annual_salary, portion_saved, total_cost, semi_annual_raise):\n",
    "    r = 0.04\n",
    "    months = 0\n",
    "    portion_down_payment = total_cost * 0.25\n",
    "    current_savings = 0\n",
    "    while(True):\n",
    "        months = months + 1\n",
    "        current_savings = current_savings + current_savings * r / 12 + annual_salary / 12 * portion_saved\n",
    "        if current_savings >= portion_down_payment:\n",
    "            break\n",
    "        if months%6 == 0:\n",
    "            annual_salary = annual_salary + annual_salary * semi_annual_raise\n",
    "    return months"
   ]
  },
  {
   "cell_type": "code",
   "execution_count": 4,
   "id": "7871e44d",
   "metadata": {},
   "outputs": [
    {
     "name": "stdout",
     "output_type": "stream",
     "text": [
      "Enter your annual salary: 100000\n",
      "Enter the percent of your salary to save, as a decimal: 0.1\n",
      "Enter the cost of your dream home: 1500000\n",
      "Enter the semi-annual raise, as a decimal: 0.05\n",
      "Number of months: 170\n"
     ]
    }
   ],
   "source": [
    "annual_salary = input('Enter your annual salary: ')\n",
    "portion_saved = input('Enter the percent of your salary to save, as a decimal: ')\n",
    "total_cost = input('Enter the cost of your dream home: ')\n",
    "semi_annual_raise = input('Enter the semi-annual raise, as a decimal: ')\n",
    "months = cal(float(annual_salary), float(portion_saved), float(total_cost), float(semi_annual_raise))\n",
    "print('Number of months: {}'.format(months))"
   ]
  },
  {
   "cell_type": "code",
   "execution_count": null,
   "id": "d3c22435",
   "metadata": {},
   "outputs": [],
   "source": []
  }
 ],
 "metadata": {
  "kernelspec": {
   "display_name": "Python 3",
   "language": "python",
   "name": "python3"
  },
  "language_info": {
   "codemirror_mode": {
    "name": "ipython",
    "version": 3
   },
   "file_extension": ".py",
   "mimetype": "text/x-python",
   "name": "python",
   "nbconvert_exporter": "python",
   "pygments_lexer": "ipython3",
   "version": "3.7.3"
  }
 },
 "nbformat": 4,
 "nbformat_minor": 5
}
